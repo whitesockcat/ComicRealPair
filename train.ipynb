{
 "cells": [
  {
   "cell_type": "markdown",
   "metadata": {},
   "source": [
    "# One Shot Learning with Siamese Networks\n",
    "\n",
    "This is the jupyter notebook that accompanies"
   ]
  },
  {
   "cell_type": "markdown",
   "metadata": {},
   "source": [
    "## Imports\n",
    "All the imports are defined here"
   ]
  },
  {
   "cell_type": "code",
   "execution_count": 107,
   "metadata": {},
   "outputs": [],
   "source": [
    "%matplotlib inline\n",
    "import torchvision\n",
    "import torchvision.datasets as dset\n",
    "import torchvision.transforms as transforms\n",
    "from torch.utils.data import DataLoader,Dataset\n",
    "import matplotlib.pyplot as plt\n",
    "import torchvision.utils\n",
    "import numpy as np\n",
    "import random\n",
    "from PIL import Image\n",
    "import torch\n",
    "from torch.autograd import Variable\n",
    "import PIL.ImageOps    \n",
    "import torch.nn as nn\n",
    "from torch import optim\n",
    "import torch.nn.functional as F\n",
    "\n",
    "import random\n",
    "from PIL import Image\n",
    "import torch\n",
    "import os\n",
    "from torch.utils.data import DataLoader,Dataset\n",
    "import numpy as np\n",
    "import pandas as pd"
   ]
  },
  {
   "cell_type": "markdown",
   "metadata": {},
   "source": [
    "## Helper functions\n",
    "Set of helper functions"
   ]
  },
  {
   "cell_type": "code",
   "execution_count": 2,
   "metadata": {},
   "outputs": [],
   "source": [
    "def imshow(img,text=None,should_save=False):\n",
    "    npimg = img.numpy()\n",
    "    plt.axis(\"off\")\n",
    "    if text:\n",
    "        plt.text(75, 8, text, style='italic',fontweight='bold',\n",
    "            bbox={'facecolor':'white', 'alpha':0.8, 'pad':10})\n",
    "    plt.imshow(np.transpose(npimg, (1, 2, 0)))\n",
    "    plt.show()    \n",
    "\n",
    "def show_plot(iteration,loss):\n",
    "    plt.plot(iteration,loss)\n",
    "    plt.show()"
   ]
  },
  {
   "cell_type": "markdown",
   "metadata": {},
   "source": [
    "## Configuration Class\n",
    "A simple class to manage configuration"
   ]
  },
  {
   "cell_type": "code",
   "execution_count": 93,
   "metadata": {},
   "outputs": [],
   "source": [
    "class Config():\n",
    "    training_dir = \"train_mix/\"\n",
    "    testing_dir = \"./data/faces/testing/\"# TODO\n",
    "    train_batch_size = 4 # 64\n",
    "    train_number_epochs = 10 #100\n",
    "    \n",
    "class ComicRealPairDataset(Dataset):\n",
    "    \n",
    "    def __init__(self,\n",
    "                 pair_list,\n",
    "                 is_training = True,\n",
    "                 pic_dir = 'train_mix/',\n",
    "                 transform=None):\n",
    "        self.pic_dir = pic_dir\n",
    "        self.transform = transform\n",
    "        self.is_training = is_training\n",
    "        self.pair_list = pair_list\n",
    "        real_num = len(self.pair_list)\n",
    "        self.ids = [i for i in range(real_num)]# 选real作总数\n",
    "\n",
    "    def __getitem__(self,index):\n",
    "        idx = self.ids[index]\n",
    "        \n",
    "        real_path = self.pic_dir + self.pair_list.iat[idx, 0]\n",
    "        comi_path = self.pic_dir + self.pair_list.iat[idx, 1]\n",
    "        \n",
    "        real_img = Image.open(real_path).convert('L')#RGB\n",
    "        comi_img = Image.open(comi_path).convert('L')#RGB\n",
    "        \n",
    "        if self.transform is not None:\n",
    "            real_img = self.transform(real_img)\n",
    "            comi_img = self.transform(comi_img)\n",
    "            \n",
    "        if self.is_training:\n",
    "            target = int(self.pair_list.iat[idx, 2])\n",
    "            return real_img, comi_img, target\n",
    "        else:\n",
    "            return real_img, comi_img\n",
    "    \n",
    "    def __len__(self):\n",
    "        return len(self.ids)\n",
    "\n"
   ]
  },
  {
   "cell_type": "markdown",
   "metadata": {},
   "source": [
    "## Custom Dataset Class\n",
    "This dataset generates a pair of images. 0 for geniune pair and 1 for imposter pair"
   ]
  },
  {
   "cell_type": "code",
   "execution_count": 94,
   "metadata": {},
   "outputs": [],
   "source": [
    "class SiameseNetworkDataset(Dataset):\n",
    "    \n",
    "    def __init__(self,imageFolderDataset,transform=None,should_invert=True):\n",
    "        self.imageFolderDataset = imageFolderDataset    \n",
    "        self.transform = transform\n",
    "        self.should_invert = should_invert\n",
    "        \n",
    "    def __getitem__(self,index):\n",
    "        img0_tuple = random.choice(self.imageFolderDataset.imgs)\n",
    "        #we need to make sure approx 50% of images are in the same class\n",
    "        should_get_same_class = random.randint(0,1) \n",
    "        if should_get_same_class:\n",
    "            while True:\n",
    "                #keep looping till the same class image is found\n",
    "                img1_tuple = random.choice(self.imageFolderDataset.imgs) \n",
    "                if img0_tuple[1]==img1_tuple[1]:\n",
    "                    break\n",
    "        else:\n",
    "            while True:\n",
    "                #keep looping till a different class image is found\n",
    "                \n",
    "                img1_tuple = random.choice(self.imageFolderDataset.imgs) \n",
    "                if img0_tuple[1] !=img1_tuple[1]:\n",
    "                    break\n",
    "\n",
    "        img0 = Image.open(img0_tuple[0])\n",
    "        img1 = Image.open(img1_tuple[0])\n",
    "        img0 = img0.convert(\"L\")\n",
    "        img1 = img1.convert(\"L\")\n",
    "        \n",
    "        if self.should_invert:\n",
    "            img0 = PIL.ImageOps.invert(img0)\n",
    "            img1 = PIL.ImageOps.invert(img1)\n",
    "\n",
    "        if self.transform is not None:\n",
    "            img0 = self.transform(img0)\n",
    "            img1 = self.transform(img1)\n",
    "        \n",
    "        return img0, img1 , torch.from_numpy(np.array([int(img1_tuple[1]!=img0_tuple[1])],dtype=np.float32))\n",
    "    \n",
    "    def __len__(self):\n",
    "        return len(self.imageFolderDataset.imgs)"
   ]
  },
  {
   "cell_type": "markdown",
   "metadata": {},
   "source": [
    "## Using Image Folder Dataset"
   ]
  },
  {
   "cell_type": "code",
   "execution_count": 108,
   "metadata": {},
   "outputs": [],
   "source": [
    "# folder_dataset = dset.ImageFolder(root=Config.training_dir)\n",
    "import pandas as pd\n",
    "pair_path = 'pair_list.csv'\n",
    "pair_list = pd.read_csv(pair_path, sep=',', header=0)\n"
   ]
  },
  {
   "cell_type": "code",
   "execution_count": 96,
   "metadata": {},
   "outputs": [],
   "source": [
    "pair_dataset = ComicRealPairDataset(pair_list,\n",
    "                                    transform=transforms.Compose([transforms.Resize((100,100)),#TODO\n",
    "                                                                      transforms.ToTensor()\n",
    "                                                                      ]),\n",
    "                                    )"
   ]
  },
  {
   "cell_type": "markdown",
   "metadata": {},
   "source": [
    "## Visualising some of the data\n",
    "The top row and the bottom row of any column is one pair. The 0s and 1s correspond to the column of the image.\n",
    "1 indiciates dissimilar, and 0 indicates similar."
   ]
  },
  {
   "cell_type": "code",
   "execution_count": 97,
   "metadata": {},
   "outputs": [
    {
     "data": {
      "image/png": "[encoded data removed]",
      "text/plain": [
       "<Figure size 432x288 with 1 Axes>"
      ]
     },
     "metadata": {},
     "output_type": "display_data"
    },
    {
     "name": "stdout",
     "output_type": "stream",
     "text": [
      "[0]\n"
     ]
    }
   ],
   "source": [
    "vis_dataloader = DataLoader(pair_dataset,\n",
    "                        shuffle=True,\n",
    "                        num_workers=0,\n",
    "                        batch_size=1)\n",
    "dataiter = iter(vis_dataloader)\n",
    "\n",
    "\n",
    "example_batch = next(dataiter)\n",
    "concatenated = torch.cat((example_batch[0],example_batch[1]),0)\n",
    "imshow(torchvision.utils.make_grid(concatenated))\n",
    "print(example_batch[2].numpy())"
   ]
  },
  {
   "cell_type": "markdown",
   "metadata": {
    "collapsed": true
   },
   "source": [
    "## Neural Net Definition\n",
    "We will use a standard convolutional neural network"
   ]
  },
  {
   "cell_type": "code",
   "execution_count": 98,
   "metadata": {},
   "outputs": [],
   "source": [
    "class SiameseNetwork(nn.Module):\n",
    "    def __init__(self):\n",
    "        super(SiameseNetwork, self).__init__()\n",
    "        self.cnn1 = nn.Sequential(\n",
    "            nn.ReflectionPad2d(1),\n",
    "            nn.Conv2d(1, 4, kernel_size=3),\n",
    "            nn.ReLU(inplace=True),\n",
    "            nn.BatchNorm2d(4),\n",
    "            \n",
    "            nn.ReflectionPad2d(1),\n",
    "            nn.Conv2d(4, 8, kernel_size=3),\n",
    "            nn.ReLU(inplace=True),\n",
    "            nn.BatchNorm2d(8),\n",
    "\n",
    "\n",
    "            nn.ReflectionPad2d(1),\n",
    "            nn.Conv2d(8, 8, kernel_size=3),\n",
    "            nn.ReLU(inplace=True),\n",
    "            nn.BatchNorm2d(8),\n",
    "\n",
    "\n",
    "        )\n",
    "\n",
    "        self.fc1 = nn.Sequential(\n",
    "            nn.Linear(8*100*100, 500),\n",
    "            nn.ReLU(inplace=True),\n",
    "\n",
    "            nn.Linear(500, 500),\n",
    "            nn.ReLU(inplace=True),\n",
    "\n",
    "            nn.Linear(500, 5))\n",
    "\n",
    "    def forward_once(self, x):\n",
    "        output = self.cnn1(x)\n",
    "        output = output.view(output.size()[0], -1)\n",
    "        output = self.fc1(output)\n",
    "        return output\n",
    "\n",
    "    def forward(self, input1, input2):\n",
    "        output1 = self.forward_once(input1)\n",
    "        output2 = self.forward_once(input2)\n",
    "        return output1, output2"
   ]
  },
  {
   "cell_type": "markdown",
   "metadata": {},
   "source": [
    "## Contrastive Loss"
   ]
  },
  {
   "cell_type": "code",
   "execution_count": 99,
   "metadata": {},
   "outputs": [],
   "source": [
    "class ContrastiveLoss(torch.nn.Module):\n",
    "    \"\"\"\n",
    "    Contrastive loss function.\n",
    "    Based on: http://yann.lecun.com/exdb/publis/pdf/hadsell-chopra-lecun-06.pdf\n",
    "    \"\"\"\n",
    "\n",
    "    def __init__(self, margin=2.0):\n",
    "        super(ContrastiveLoss, self).__init__()\n",
    "        self.margin = margin\n",
    "\n",
    "    def forward(self, output1, output2, label):\n",
    "        euclidean_distance = F.pairwise_distance(output1, output2)\n",
    "        label = label.type(torch.FloatTensor)\n",
    "        x = (1-label)\n",
    "        y = torch.pow(euclidean_distance, 2)\n",
    "        a = x * y\n",
    "        b = (label * torch.pow(torch.clamp(self.margin - euclidean_distance, min=0.0), 2))\n",
    "        loss_contrastive = torch.mean((a + b))\n",
    "#         loss_contrastive = torch.mean((1-label) * torch.pow(euclidean_distance, 2) +\n",
    "#                                       (label) * torch.pow(torch.clamp(self.margin - euclidean_distance, min=0.0), 2))\n",
    "\n",
    "\n",
    "        return loss_contrastive"
   ]
  },
  {
   "cell_type": "markdown",
   "metadata": {},
   "source": [
    "## Training Time!"
   ]
  },
  {
   "cell_type": "code",
   "execution_count": 100,
   "metadata": {},
   "outputs": [],
   "source": [
    "train_dataloader = DataLoader(pair_dataset,\n",
    "                        shuffle=True,\n",
    "                        num_workers=0,\n",
    "                        batch_size=Config.train_batch_size)"
   ]
  },
  {
   "cell_type": "code",
   "execution_count": 101,
   "metadata": {},
   "outputs": [],
   "source": [
    "net = SiameseNetwork()#.cuda()\n",
    "criterion = ContrastiveLoss()\n",
    "optimizer = optim.Adam(net.parameters(),lr = 0.0005 )"
   ]
  },
  {
   "cell_type": "code",
   "execution_count": 102,
   "metadata": {},
   "outputs": [],
   "source": [
    "counter = []\n",
    "loss_history = [] \n",
    "iteration_number= 0"
   ]
  },
  {
   "cell_type": "code",
   "execution_count": 104,
   "metadata": {
    "scrolled": true
   },
   "outputs": [
    {
     "name": "stdout",
     "output_type": "stream",
     "text": [
      "Epoch number 0\n",
      " Current loss 1.1999588012695312\n",
      "\n",
      "Epoch number 0\n",
      " Current loss 0.5887404680252075\n",
      "\n",
      "Epoch number 0\n",
      " Current loss 0.7449545860290527\n",
      "\n",
      "Epoch number 0\n",
      " Current loss 1.1752088069915771\n",
      "\n",
      "Epoch number 0\n",
      " Current loss 4.17529296875\n",
      "\n",
      "Epoch number 0\n",
      " Current loss 0.5521777272224426\n",
      "\n",
      "Epoch number 0\n",
      " Current loss 1.0884499549865723\n",
      "\n",
      "Epoch number 0\n",
      " Current loss 2.262739419937134\n",
      "\n",
      "Epoch number 0\n",
      " Current loss 0.9425555467605591\n",
      "\n",
      "Epoch number 0\n",
      " Current loss 1.3437846899032593\n",
      "\n",
      "Epoch number 0\n",
      " Current loss 1.2655733823776245\n",
      "\n",
      "Epoch number 0\n",
      " Current loss 0.6577503681182861\n",
      "\n",
      "Epoch number 0\n",
      " Current loss 1.467374563217163\n",
      "\n",
      "Epoch number 0\n",
      " Current loss 1.19911527633667\n",
      "\n",
      "Epoch number 0\n",
      " Current loss 0.3138398826122284\n",
      "\n",
      "Epoch number 0\n",
      " Current loss 4.887632846832275\n",
      "\n",
      "Epoch number 0\n",
      " Current loss 1.5980274677276611\n",
      "\n",
      "Epoch number 0\n",
      " Current loss 1.4179071187973022\n",
      "\n",
      "Epoch number 0\n",
      " Current loss 0.3956337571144104\n",
      "\n",
      "Epoch number 0\n",
      " Current loss 0.8556269407272339\n",
      "\n",
      "Epoch number 0\n",
      " Current loss 0.7088013291358948\n",
      "\n",
      "Epoch number 0\n",
      " Current loss 0.8313392996788025\n",
      "\n",
      "Epoch number 0\n",
      " Current loss 0.5983014106750488\n",
      "\n",
      "Epoch number 0\n",
      " Current loss 0.30130356550216675\n",
      "\n",
      "Epoch number 0\n",
      " Current loss 0.28183311223983765\n",
      "\n",
      "Epoch number 0\n",
      " Current loss 1.8101006746292114\n",
      "\n",
      "Epoch number 0\n",
      " Current loss 1.2376731634140015\n",
      "\n",
      "Epoch number 0\n",
      " Current loss 1.944886326789856\n",
      "\n"
     ]
    },
    {
     "name": "stderr",
     "output_type": "stream",
     "text": [
      "D:\\program\\anaconda\\lib\\site-packages\\PIL\\TiffImagePlugin.py:756: UserWarning: Corrupt EXIF data.  Expecting to read 12 bytes but only got 4. \n",
      "  warnings.warn(str(msg))\n"
     ]
    },
    {
     "name": "stdout",
     "output_type": "stream",
     "text": [
      "Epoch number 0\n",
      " Current loss 1.3531112670898438\n",
      "\n",
      "Epoch number 0\n",
      " Current loss 1.3327691555023193\n",
      "\n",
      "Epoch number 0\n",
      " Current loss 1.5597938299179077\n",
      "\n",
      "Epoch number 0\n",
      " Current loss 0.3701830804347992\n",
      "\n",
      "Epoch number 0\n",
      " Current loss 0.31155911087989807\n",
      "\n",
      "Epoch number 0\n",
      " Current loss 1.3468703031539917\n",
      "\n",
      "Epoch number 0\n",
      " Current loss 1.0305639505386353\n",
      "\n",
      "Epoch number 0\n",
      " Current loss 1.0167866945266724\n",
      "\n",
      "Epoch number 0\n",
      " Current loss 0.6623944044113159\n",
      "\n",
      "Epoch number 0\n",
      " Current loss 1.6689189672470093\n",
      "\n",
      "Epoch number 0\n",
      " Current loss 1.0059216022491455\n",
      "\n",
      "Epoch number 0\n",
      " Current loss 1.6083042621612549\n",
      "\n",
      "Epoch number 0\n",
      " Current loss 2.3809802532196045\n",
      "\n",
      "Epoch number 0\n",
      " Current loss 1.2155383825302124\n",
      "\n",
      "Epoch number 0\n",
      " Current loss 0.6605052947998047\n",
      "\n",
      "Epoch number 0\n",
      " Current loss 0.18991857767105103\n",
      "\n",
      "Epoch number 0\n",
      " Current loss 0.7586151957511902\n",
      "\n",
      "Epoch number 0\n",
      " Current loss 0.9893255233764648\n",
      "\n",
      "Epoch number 0\n",
      " Current loss 0.6905056238174438\n",
      "\n",
      "Epoch number 0\n",
      " Current loss 0.6611994504928589\n",
      "\n",
      "Epoch number 0\n",
      " Current loss 0.7874693274497986\n",
      "\n",
      "Epoch number 0\n",
      " Current loss 1.5392855405807495\n",
      "\n",
      "Epoch number 0\n",
      " Current loss 0.9743596911430359\n",
      "\n",
      "Epoch number 0\n",
      " Current loss 1.0143741369247437\n",
      "\n",
      "Epoch number 0\n",
      " Current loss 1.2193297147750854\n",
      "\n",
      "Epoch number 0\n",
      " Current loss 1.375157117843628\n",
      "\n",
      "Epoch number 0\n",
      " Current loss 0.49918264150619507\n",
      "\n",
      "Epoch number 0\n",
      " Current loss 0.6722633242607117\n",
      "\n",
      "Epoch number 0\n",
      " Current loss 1.2878400087356567\n",
      "\n",
      "Epoch number 0\n",
      " Current loss 1.2129685878753662\n",
      "\n",
      "Epoch number 0\n",
      " Current loss 1.1197497844696045\n",
      "\n",
      "Epoch number 0\n",
      " Current loss 0.612725019454956\n",
      "\n",
      "Epoch number 0\n",
      " Current loss 1.476030945777893\n",
      "\n",
      "Epoch number 0\n",
      " Current loss 1.5582070350646973\n",
      "\n",
      "Epoch number 0\n",
      " Current loss 1.191027283668518\n",
      "\n",
      "Epoch number 0\n",
      " Current loss 2.125453472137451\n",
      "\n",
      "Epoch number 0\n",
      " Current loss 1.1907075643539429\n",
      "\n",
      "Epoch number 0\n",
      " Current loss 0.8447446823120117\n",
      "\n",
      "Epoch number 0\n",
      " Current loss 1.13816499710083\n",
      "\n"
     ]
    },
    {
     "name": "stderr",
     "output_type": "stream",
     "text": [
      "D:\\program\\anaconda\\lib\\site-packages\\PIL\\TiffImagePlugin.py:756: UserWarning: Corrupt EXIF data.  Expecting to read 2 bytes but only got 0. \n",
      "  warnings.warn(str(msg))\n"
     ]
    },
    {
     "name": "stdout",
     "output_type": "stream",
     "text": [
      "Epoch number 0\n",
      " Current loss 1.3634090423583984\n",
      "\n",
      "Epoch number 1\n",
      " Current loss 0.7633402347564697\n",
      "\n",
      "Epoch number 1\n",
      " Current loss 0.8147345185279846\n",
      "\n",
      "Epoch number 1\n",
      " Current loss 1.0504608154296875\n",
      "\n",
      "Epoch number 1\n",
      " Current loss 0.378580242395401\n",
      "\n",
      "Epoch number 1\n",
      " Current loss 1.2233320474624634\n",
      "\n",
      "Epoch number 1\n",
      " Current loss 0.8319326043128967\n",
      "\n"
     ]
    },
    {
     "ename": "KeyboardInterrupt",
     "evalue": "",
     "output_type": "error",
     "traceback": [
      "\u001b[1;31m---------------------------------------------------------------------------\u001b[0m",
      "\u001b[1;31mKeyboardInterrupt\u001b[0m                         Traceback (most recent call last)",
      "\u001b[1;32m<ipython-input-104-0f2ffa556508>\u001b[0m in \u001b[0;36m<module>\u001b[1;34m()\u001b[0m\n\u001b[0;32m      8\u001b[0m         \u001b[0mloss_contrastive\u001b[0m \u001b[1;33m=\u001b[0m \u001b[0mcriterion\u001b[0m\u001b[1;33m(\u001b[0m\u001b[0moutput1\u001b[0m\u001b[1;33m,\u001b[0m\u001b[0moutput2\u001b[0m\u001b[1;33m,\u001b[0m\u001b[0mlabel\u001b[0m\u001b[1;33m)\u001b[0m\u001b[1;33m\u001b[0m\u001b[0m\n\u001b[0;32m      9\u001b[0m         \u001b[0mloss_contrastive\u001b[0m\u001b[1;33m.\u001b[0m\u001b[0mbackward\u001b[0m\u001b[1;33m(\u001b[0m\u001b[1;33m)\u001b[0m\u001b[1;33m\u001b[0m\u001b[0m\n\u001b[1;32m---> 10\u001b[1;33m         \u001b[0moptimizer\u001b[0m\u001b[1;33m.\u001b[0m\u001b[0mstep\u001b[0m\u001b[1;33m(\u001b[0m\u001b[1;33m)\u001b[0m\u001b[1;33m\u001b[0m\u001b[0m\n\u001b[0m\u001b[0;32m     11\u001b[0m         \u001b[1;32mif\u001b[0m \u001b[0mi\u001b[0m \u001b[1;33m%\u001b[0m\u001b[1;36m50\u001b[0m \u001b[1;33m==\u001b[0m \u001b[1;36m0\u001b[0m \u001b[1;33m:\u001b[0m\u001b[1;33m\u001b[0m\u001b[0m\n\u001b[0;32m     12\u001b[0m             \u001b[0mprint\u001b[0m\u001b[1;33m(\u001b[0m\u001b[1;34m\"Epoch number {}\\n Current loss {}\\n\"\u001b[0m\u001b[1;33m.\u001b[0m\u001b[0mformat\u001b[0m\u001b[1;33m(\u001b[0m\u001b[0mepoch\u001b[0m\u001b[1;33m,\u001b[0m\u001b[0mloss_contrastive\u001b[0m\u001b[1;33m.\u001b[0m\u001b[0mitem\u001b[0m\u001b[1;33m(\u001b[0m\u001b[1;33m)\u001b[0m\u001b[1;33m)\u001b[0m\u001b[1;33m)\u001b[0m\u001b[1;33m\u001b[0m\u001b[0m\n",
      "\u001b[1;32mD:\\program\\anaconda\\lib\\site-packages\\torch\\optim\\adam.py\u001b[0m in \u001b[0;36mstep\u001b[1;34m(self, closure)\u001b[0m\n\u001b[0;32m     91\u001b[0m                 \u001b[1;31m# Decay the first and second moment running average coefficient\u001b[0m\u001b[1;33m\u001b[0m\u001b[1;33m\u001b[0m\u001b[0m\n\u001b[0;32m     92\u001b[0m                 \u001b[0mexp_avg\u001b[0m\u001b[1;33m.\u001b[0m\u001b[0mmul_\u001b[0m\u001b[1;33m(\u001b[0m\u001b[0mbeta1\u001b[0m\u001b[1;33m)\u001b[0m\u001b[1;33m.\u001b[0m\u001b[0madd_\u001b[0m\u001b[1;33m(\u001b[0m\u001b[1;36m1\u001b[0m \u001b[1;33m-\u001b[0m \u001b[0mbeta1\u001b[0m\u001b[1;33m,\u001b[0m \u001b[0mgrad\u001b[0m\u001b[1;33m)\u001b[0m\u001b[1;33m\u001b[0m\u001b[0m\n\u001b[1;32m---> 93\u001b[1;33m                 \u001b[0mexp_avg_sq\u001b[0m\u001b[1;33m.\u001b[0m\u001b[0mmul_\u001b[0m\u001b[1;33m(\u001b[0m\u001b[0mbeta2\u001b[0m\u001b[1;33m)\u001b[0m\u001b[1;33m.\u001b[0m\u001b[0maddcmul_\u001b[0m\u001b[1;33m(\u001b[0m\u001b[1;36m1\u001b[0m \u001b[1;33m-\u001b[0m \u001b[0mbeta2\u001b[0m\u001b[1;33m,\u001b[0m \u001b[0mgrad\u001b[0m\u001b[1;33m,\u001b[0m \u001b[0mgrad\u001b[0m\u001b[1;33m)\u001b[0m\u001b[1;33m\u001b[0m\u001b[0m\n\u001b[0m\u001b[0;32m     94\u001b[0m                 \u001b[1;32mif\u001b[0m \u001b[0mamsgrad\u001b[0m\u001b[1;33m:\u001b[0m\u001b[1;33m\u001b[0m\u001b[0m\n\u001b[0;32m     95\u001b[0m                     \u001b[1;31m# Maintains the maximum of all 2nd moment running avg. till now\u001b[0m\u001b[1;33m\u001b[0m\u001b[1;33m\u001b[0m\u001b[0m\n",
      "\u001b[1;31mKeyboardInterrupt\u001b[0m: "
     ]
    }
   ],
   "source": [
    "for epoch in range(0,Config.train_number_epochs):\n",
    "    for i, data in enumerate(train_dataloader,0):\n",
    "        img0, img1 , label = data\n",
    "#         img0, img1 , label = img0.cuda(), img1.cuda() , label.cuda()\n",
    "        img0, img1 , label = torch.tensor(img0, requires_grad=True), torch.tensor(img1, requires_grad=True), torch.tensor(label, requires_grad=True)\n",
    "        optimizer.zero_grad()\n",
    "        output1,output2 = net(img0,img1)\n",
    "        loss_contrastive = criterion(output1,output2,label)\n",
    "        loss_contrastive.backward()\n",
    "        optimizer.step()\n",
    "        if i %50 == 0 :\n",
    "            print(\"Epoch number {}\\n Current loss {}\\n\".format(epoch,loss_contrastive.item()))\n",
    "            iteration_number +=10\n",
    "            counter.append(iteration_number)\n",
    "            loss_history.append(loss_contrastive.item())\n",
    "show_plot(counter,loss_history)"
   ]
  },
  {
   "cell_type": "markdown",
   "metadata": {},
   "source": [
    "## Some simple testing\n",
    "The last 3 subjects were held out from the training, and will be used to test. The Distance between each image pair denotes the degree of similarity the model found between the two images. Less means it found more similar, while higher values indicate it found them to be dissimilar."
   ]
  },
  {
   "cell_type": "code",
   "execution_count": 114,
   "metadata": {
    "run_control": {
     "marked": true
    },
    "scrolled": false
   },
   "outputs": [
    {
     "name": "stderr",
     "output_type": "stream",
     "text": [
      "D:\\program\\anaconda\\lib\\site-packages\\ipykernel_launcher.py:5: DeprecationWarning: \n",
      ".ix is deprecated. Please use\n",
      ".loc for label based indexing or\n",
      ".iloc for positional indexing\n",
      "\n",
      "See the documentation here:\n",
      "http://pandas.pydata.org/pandas-docs/stable/indexing.html#ix-indexer-is-deprecated\n",
      "  \"\"\"\n"
     ]
    }
   ],
   "source": [
    "root = 'af2019-ksyun-testA-20190416/'\n",
    "# root = 'af2019-ksyun-testB-20190424/'\n",
    "ann_path = root + 'list.csv'\n",
    "df = pd.read_csv(ann_path, sep=',', header=0)\n",
    "pair_list = df.ix[:, 1:]\n",
    "pic_dir = root + 'images/'\n",
    "\n",
    "pair_dataset = ComicRealPairDataset(pair_list,\n",
    "                                    pic_dir = pic_dir,\n",
    "                                    is_training = False,\n",
    "                                    transform=transforms.Compose([transforms.Resize((100,100)),#TODO\n",
    "                                                                  transforms.ToTensor()\n",
    "                                                                  ]),\n",
    "                                    )\n",
    "  \n",
    "id_confidence = []\n",
    "\n",
    "test_dataloader = DataLoader(pair_dataset,num_workers=0,batch_size=1,shuffle=False)\n",
    "for i, data in enumerate(test_dataloader, 0):\n",
    "    x0, x1 = data\n",
    "    x0, x1 = torch.tensor(x0), torch.tensor(x1)\n",
    "    output1,output2 = net(x0,x1)\n",
    "    euclidean_distance = F.pairwise_distance(output1, output2).item()\n",
    "    score = max(0, 1-euclidean_distance)\n",
    "    id_confidence.append([i, score])# 分数可以加调节参数改\n",
    "save = pd.DataFrame(id_confidence)\n",
    "save.to_csv('testA.csv',index=False,sep=',', header=['group_id', 'confidence'])"
   ]
  },
  {
   "cell_type": "code",
   "execution_count": null,
   "metadata": {},
   "outputs": [],
   "source": []
  },
  {
   "cell_type": "code",
   "execution_count": null,
   "metadata": {},
   "outputs": [],
   "source": []
  },
  {
   "cell_type": "code",
   "execution_count": null,
   "metadata": {},
   "outputs": [],
   "source": []
  },
  {
   "cell_type": "code",
   "execution_count": null,
   "metadata": {},
   "outputs": [],
   "source": []
  }
 ],
 "metadata": {
  "hide_input": false,
  "kernelspec": {
   "display_name": "Python 3",
   "language": "python",
   "name": "python3"
  },
  "language_info": {
   "codemirror_mode": {
    "name": "ipython",
    "version": 3
   },
   "file_extension": ".py",
   "mimetype": "text/x-python",
   "name": "python",
   "nbconvert_exporter": "python",
   "pygments_lexer": "ipython3",
   "version": "3.6.5"
  }
 },
 "nbformat": 4,
 "nbformat_minor": 2
}
